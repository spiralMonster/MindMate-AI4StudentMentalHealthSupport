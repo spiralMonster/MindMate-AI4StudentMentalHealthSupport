{
  "cells": [
    {
      "cell_type": "code",
      "source": [
        "%pip install langchain\n",
        "%pip install youtube-transcript-api\n",
        "%pip install -qU langchain-google-genai\n",
        "%pip install langchain_community\n",
        "%pip install chromadb"
      ],
      "metadata": {
        "id": "O4DKqTJMqw0W"
      },
      "execution_count": null,
      "outputs": []
    },
    {
      "cell_type": "code",
      "source": [
        "cd /content/drive/MyDrive/MindMate"
      ],
      "metadata": {
        "id": "4IZOXtaT9YwU"
      },
      "execution_count": null,
      "outputs": []
    },
    {
      "cell_type": "code",
      "source": [
        "from sentiment_analyzer import SentimentAnalyser\n",
        "from exam_pressure_handler import ExamPressureHandlerAI"
      ],
      "metadata": {
        "id": "tiOMVDgu9Yqd"
      },
      "execution_count": 2,
      "outputs": []
    },
    {
      "cell_type": "code",
      "source": [
        "sentiment_analyser=SentimentAnalyser()"
      ],
      "metadata": {
        "id": "4kyscwXL9Ylb"
      },
      "execution_count": 8,
      "outputs": []
    },
    {
      "cell_type": "code",
      "source": [
        "exam_pressure_handler=ExamPressureHandlerAI()"
      ],
      "metadata": {
        "id": "k04ryvyDZzmH"
      },
      "execution_count": 5,
      "outputs": []
    },
    {
      "cell_type": "code",
      "source": [
        "import os"
      ],
      "metadata": {
        "id": "QP1rhLabazYa"
      },
      "execution_count": 6,
      "outputs": []
    },
    {
      "cell_type": "code",
      "source": [
        "while True:\n",
        "  question=input(\"User: \")\n",
        "  if question=='exit':\n",
        "    break\n",
        "  os.system('cls' if os.name == 'nt' else 'clear')\n",
        "  sentiment=sentiment_analyser.run(query=question)\n",
        "  if sentiment=='Exam_pressure':\n",
        "    history,sentiment=exam_pressure_handler.run(initial_question=question)\n",
        "  else:\n",
        "    break\n"
      ],
      "metadata": {
        "id": "9Q5X4QM89Yi7"
      },
      "execution_count": null,
      "outputs": []
    }
  ],
  "metadata": {
    "colab": {
      "provenance": []
    },
    "kernelspec": {
      "display_name": "Python 3",
      "name": "python3"
    },
    "language_info": {
      "name": "python"
    }
  },
  "nbformat": 4,
  "nbformat_minor": 0
}